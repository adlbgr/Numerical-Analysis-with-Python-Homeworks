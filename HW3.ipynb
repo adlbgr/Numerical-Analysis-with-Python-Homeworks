{
 "cells": [
  {
   "cell_type": "markdown",
   "metadata": {},
   "source": [
    "# Buğrahan Adalı  "
   ]
  },
  {
   "cell_type": "markdown",
   "metadata": {},
   "source": [
    "# Numerical Analysis with Python  Homework 3 "
   ]
  },
  {
   "cell_type": "markdown",
   "metadata": {},
   "source": [
    "## Question 1"
   ]
  },
  {
   "cell_type": "code",
   "execution_count": 16,
   "metadata": {},
   "outputs": [
    {
     "name": "stdout",
     "output_type": "stream",
     "text": [
      "Numerical derivative at x=1.0: 3.760086\n",
      "Analytical derivative at x=1.0: 3.756049\n",
      "Absolute error: 0.107471%\n"
     ]
    }
   ],
   "source": [
    "import math\n",
    "\n",
    "def f(x):\n",
    "    return math.exp(x) * math.sin(x)\n",
    "\n",
    "# Parameters\n",
    "x0 = 1.0\n",
    "h  = 0.3\n",
    "\n",
    "# Four-point central difference approximation\n",
    "f_prime_approx = (\n",
    "    f(x0 - 2*h)\n",
    "    - 8 * f(x0 - h)\n",
    "    + 8 * f(x0 + h)\n",
    "    - f(x0 + 2*h)\n",
    ") / (12 * h)\n",
    "\n",
    "# Exact derivative at x = 1\n",
    "f_prime_exact = math.exp(x0) * (math.sin(x0) + math.cos(x0))\n",
    "\n",
    "# Print results\n",
    "print(f\"Numerical derivative at x={x0}: {f_prime_approx:.6f}\")\n",
    "print(f\"Analytical derivative at x={x0}: {f_prime_exact:.6f}\")\n",
    "print(f\"Absolute error: {(abs(f_prime_approx - f_prime_exact)/f_prime_exact)*100:.6f}%\")"
   ]
  },
  {
   "cell_type": "markdown",
   "metadata": {},
   "source": [
    "## Question 2"
   ]
  },
  {
   "cell_type": "markdown",
   "metadata": {},
   "source": [
    "### Just Trapezoidal Solution"
   ]
  },
  {
   "cell_type": "code",
   "execution_count": 1,
   "metadata": {},
   "outputs": [
    {
     "name": "stdout",
     "output_type": "stream",
     "text": [
      "Trapezoidal Rule result: 244.5\n"
     ]
    }
   ],
   "source": [
    "import numpy as np\n",
    "x = np.array([0, 1, 2, 3, 4, 5, 6,7,8,9])\n",
    "f = x**2\n",
    "# Trapezoidal Rule\n",
    "def trapezoidal_rule(xt, ft):\n",
    "    n = len(xt)\n",
    "    integral = 0\n",
    "    for i in range(n - 1):\n",
    "        h = xt[i + 1] - xt[i]\n",
    "        integral += (h / 2) * (ft[i] + ft[i + 1])\n",
    "    return integral\n",
    "\n",
    "trap_result = trapezoidal_rule(x, f)\n",
    "print(f\"Trapezoidal Rule result: {trap_result}\")"
   ]
  },
  {
   "cell_type": "markdown",
   "metadata": {},
   "source": [
    "### Just Simpson 3/8 Rule Solution"
   ]
  },
  {
   "cell_type": "code",
   "execution_count": 4,
   "metadata": {},
   "outputs": [
    {
     "name": "stdout",
     "output_type": "stream",
     "text": [
      "Simpson's Rule result: 243.0\n"
     ]
    }
   ],
   "source": [
    "import numpy as np\n",
    "x = np.array([0, 1, 2, 3, 4, 5, 6,7,8,9])\n",
    "f = x**2\n",
    "# Simpson's Rule\n",
    "def simpsons_3_8_rule(xs, fs):\n",
    "    n = len(xs)\n",
    "    if (n - 1) % 3 != 0:\n",
    "        raise ValueError(\"Number of intervals must be a multiple of 3 for Simpson's 3/8 rule.\")\n",
    "    \n",
    "    h = xs[1] - xs[0]  # Assuming uniform spacing between points\n",
    "    integral = fs[0] + fs[-1]\n",
    "    \n",
    "    for i in range(1, n-1):\n",
    "        if i % 3 == 0:\n",
    "            integral += 2 * fs[i]  # Multiply by 2 for multiples of 3\n",
    "        else:\n",
    "            integral += 3 * fs[i]  # Multiply by 3 for other points\n",
    "    \n",
    "    return (3 * h / 8) * integral\n",
    "\n",
    "\n",
    "simpson_result = simpsons_3_8_rule(x, f)\n",
    "print(f\"Simpson's Rule result: {simpson_result}\")"
   ]
  },
  {
   "cell_type": "markdown",
   "metadata": {},
   "source": [
    "### Both Simpson (0-8) and Trapezoidal (8-9) Solution\n"
   ]
  },
  {
   "cell_type": "code",
   "execution_count": 18,
   "metadata": {},
   "outputs": [
    {
     "name": "stdout",
     "output_type": "stream",
     "text": [
      "Trapezoidal Rule result [8,9]: 72.5\n",
      "Simpson's Rule result [0,8]: 170.66666666666666\n",
      "Total result [0,9]: 243.16666666666666\n"
     ]
    }
   ],
   "source": [
    "import numpy as np\n",
    "\n",
    "# Data points\n",
    "xs = np.array([0, 1, 2, 3, 4, 5, 6,7,8])\n",
    "fs = xs**2\n",
    "xt = np.array([8,9])\n",
    "ft = xt**2\n",
    "# Trapezoidal Rule\n",
    "def trapezoidal_rule(xt, ft):\n",
    "    n = len(xt)\n",
    "    integral = 0\n",
    "    for i in range(n - 1):\n",
    "        h = xt[i + 1] - xt[i]\n",
    "        integral += (h / 2) * (ft[i] + ft[i + 1])\n",
    "    return integral\n",
    "\n",
    "# Simpson's Rule\n",
    "def simpsons_rule(xs, fs):\n",
    "    n = len(xs)\n",
    "    if n % 2 == 0:\n",
    "        raise ValueError(\"Simpson's Rule requires an odd number of points.\")\n",
    "    h = xs[1] - xs[0]  # Assuming uniform spacing between points\n",
    "    integral = fs[0] + fs[-1]\n",
    "    for i in range(1, n-1, 2):\n",
    "        integral += 4 * fs[i]\n",
    "    for i in range(2, n-2, 2):\n",
    "        integral += 2 * fs[i]\n",
    "    return (h / 3) * integral\n",
    "\n",
    "# Apply Trapezoidal Rule\n",
    "trap_result = trapezoidal_rule(xt, ft)\n",
    "\n",
    "# Apply Simpson's Rule\n",
    "simpson_result = simpsons_rule(xs, fs)\n",
    "\n",
    "# Print results\n",
    "print(f\"Trapezoidal Rule result [8,9]: {trap_result}\")\n",
    "print(f\"Simpson's Rule result [0,8]: {simpson_result}\")\n",
    "print(f\"Total result [0,9]: {trap_result+simpson_result}\")"
   ]
  }
 ],
 "metadata": {
  "kernelspec": {
   "display_name": "Python 3",
   "language": "python",
   "name": "python3"
  },
  "language_info": {
   "codemirror_mode": {
    "name": "ipython",
    "version": 3
   },
   "file_extension": ".py",
   "mimetype": "text/x-python",
   "name": "python",
   "nbconvert_exporter": "python",
   "pygments_lexer": "ipython3",
   "version": "3.12.8"
  }
 },
 "nbformat": 4,
 "nbformat_minor": 2
}
